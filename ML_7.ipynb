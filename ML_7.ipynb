{
  "nbformat": 4,
  "nbformat_minor": 0,
  "metadata": {
    "colab": {
      "provenance": [],
      "authorship_tag": "ABX9TyOhZ0nS71CHrDR0QtN+Mk6+",
      "include_colab_link": true
    },
    "kernelspec": {
      "name": "python3",
      "display_name": "Python 3"
    },
    "language_info": {
      "name": "python"
    }
  },
  "cells": [
    {
      "cell_type": "markdown",
      "metadata": {
        "id": "view-in-github",
        "colab_type": "text"
      },
      "source": [
        "<a href=\"https://colab.research.google.com/github/GIRI-SUMANTH/Python-Basic-Codes/blob/master/ML_7.ipynb\" target=\"_parent\"><img src=\"https://colab.research.google.com/assets/colab-badge.svg\" alt=\"Open In Colab\"/></a>"
      ]
    },
    {
      "cell_type": "code",
      "execution_count": 101,
      "metadata": {
        "colab": {
          "base_uri": "https://localhost:8080/"
        },
        "id": "s8UTntFvUsrF",
        "outputId": "563e0ab8-b457-44b6-f6f4-511e605a9bc6"
      },
      "outputs": [
        {
          "output_type": "stream",
          "name": "stdout",
          "text": [
            "     f1   f2  f3   f4  f5  output\n",
            "0   2.0  4.0   9  1.0   2     NaN\n",
            "1   NaN  5.0   3  2.0   4     NaN\n",
            "2   6.0  4.0   6  3.0   6     NaN\n",
            "3   1.0  5.0   2  4.0   8     NaN\n",
            "4   NaN  4.0   1  5.0  10     NaN\n",
            "5   2.0  5.0   6  6.0  12     NaN\n",
            "6   3.0  4.0   4  7.0  14     NaN\n",
            "7   NaN  4.0   7  8.0  16     NaN\n",
            "8   2.0  4.0   2  9.0  18     NaN\n",
            "9   3.0  4.0   9  2.0  20     NaN\n",
            "10  1.0  4.0   4  3.0  22     NaN\n",
            "11  NaN  5.0   7  4.0  24     NaN\n",
            "12  NaN  5.0   3  5.0  26     NaN\n",
            "13  3.0  NaN   4  1.0  28     NaN\n",
            "14  NaN  NaN   2  4.0  30     NaN\n",
            "15  NaN  NaN   4  6.0  32     NaN\n",
            "16  5.0  NaN   4  2.0  34     NaN\n",
            "17  NaN  4.0   9  7.0  36     NaN\n",
            "18  1.0  5.0   1  6.0  38     NaN\n",
            "19  3.0  6.0   5  7.0  40     NaN\n",
            "20  1.0  3.0   3  5.0  42     NaN\n",
            "21  9.0  3.0   5  9.0  44     NaN\n",
            "22  4.0  4.0   2  4.0  46     NaN\n",
            "23  7.0  4.0   5  2.0  48     NaN\n",
            "24  NaN  5.0   1  6.0  50     NaN\n",
            "25  NaN  5.0   4  3.0  52     NaN\n",
            "26  3.0  4.0   6  4.0  54     NaN\n",
            "27  5.0  4.0   8  5.0  56     NaN\n",
            "28  3.0  NaN   4  NaN  58     NaN\n",
            "29  NaN  4.0   6  2.0  60     NaN\n",
            "30  NaN  4.0   9  2.0  62     NaN\n",
            "31  1.0  4.0   5  1.0  64     NaN\n",
            "32  1.0  4.0   9  6.0  66     NaN\n",
            "33  NaN  NaN   1  5.0  68     NaN\n",
            "34  NaN  NaN   2  8.0  70     NaN\n",
            "35  NaN  4.0   4  5.0  72     NaN\n",
            "36  4.0  4.0   2  7.0  74     NaN\n",
            "37  NaN  NaN   5  5.0  76     NaN\n",
            "38  7.0  5.0   2  1.0  78     NaN\n",
            "39  3.0  4.0   3  5.0  80     NaN\n"
          ]
        }
      ],
      "source": [
        "import pandas as pd\n",
        "import copy as cp\n",
        "\n",
        "f1=pd.read_csv('/content/ML-7.csv')\n",
        "# print(f1)\n",
        "n=len(f1)\n",
        "n_i=cp.deepcopy(n)\n",
        "\n",
        "df1=pd.DataFrame(f1)\n",
        "print(df1)\n",
        "df1_i=cp.deepcopy(df1)"
      ]
    },
    {
      "cell_type": "code",
      "source": [
        "def isNaN(x):\n",
        "  return x!=x\n",
        "\n",
        "def missing_values(f1,features):\n",
        "  miss_per=list()\n",
        "  for i in features:\n",
        "    cnt=0\n",
        "    for j in range(len(f1[i])):\n",
        "      if(isNaN(f1[i][j])):\n",
        "        cnt+=1\n",
        "    print(cnt)\n",
        "    miss_per.append((cnt/len(f1))*100)\n",
        "  return miss_per\n",
        "\n",
        "def variance1(col):\n",
        "  return pd.Series(col).var()"
      ],
      "metadata": {
        "id": "ik2rGJZVPyJ9"
      },
      "execution_count": 102,
      "outputs": []
    },
    {
      "cell_type": "code",
      "source": [
        "features=list()\n",
        "for x in f1:\n",
        "  print(x)\n",
        "  features.append(x)\n",
        "features_i=cp.deepcopy(features)\n",
        "\n",
        "m=len(features)\n",
        "m_i=cp.deepcopy(m)"
      ],
      "metadata": {
        "colab": {
          "base_uri": "https://localhost:8080/"
        },
        "id": "tdOJJmGGcLBr",
        "outputId": "0ff7cb64-42fe-4994-991f-82ffb0b5e49e"
      },
      "execution_count": 103,
      "outputs": [
        {
          "output_type": "stream",
          "name": "stdout",
          "text": [
            "f1\n",
            "f2\n",
            "f3\n",
            "f4\n",
            "f5\n",
            "output\n"
          ]
        }
      ]
    },
    {
      "cell_type": "code",
      "source": [
        "print(n,m)\n",
        "mv=missing_values(f1,features)\n",
        "print(mv)\n",
        "for i in range(m):\n",
        "  if mv[i]>10:\n",
        "    df1.pop(features_i[i])\n",
        "    print(f'Col %d is deleted.'%(i+1))\n",
        "    features.remove(features_i[i])\n",
        "    print(features,features_i)\n",
        "print(df1)"
      ],
      "metadata": {
        "colab": {
          "base_uri": "https://localhost:8080/"
        },
        "id": "qevVzkXHdlCY",
        "outputId": "90daa624-06ab-4e2a-fc73-3fd23797d8de"
      },
      "execution_count": 104,
      "outputs": [
        {
          "output_type": "stream",
          "name": "stdout",
          "text": [
            "40 6\n",
            "16\n",
            "8\n",
            "0\n",
            "1\n",
            "0\n",
            "40\n",
            "[40.0, 20.0, 0.0, 2.5, 0.0, 100.0]\n",
            "Col 1 is deleted.\n",
            "['f2', 'f3', 'f4', 'f5', 'output'] ['f1', 'f2', 'f3', 'f4', 'f5', 'output']\n",
            "Col 2 is deleted.\n",
            "['f3', 'f4', 'f5', 'output'] ['f1', 'f2', 'f3', 'f4', 'f5', 'output']\n",
            "Col 6 is deleted.\n",
            "['f3', 'f4', 'f5'] ['f1', 'f2', 'f3', 'f4', 'f5', 'output']\n",
            "    f3   f4  f5\n",
            "0    9  1.0   2\n",
            "1    3  2.0   4\n",
            "2    6  3.0   6\n",
            "3    2  4.0   8\n",
            "4    1  5.0  10\n",
            "5    6  6.0  12\n",
            "6    4  7.0  14\n",
            "7    7  8.0  16\n",
            "8    2  9.0  18\n",
            "9    9  2.0  20\n",
            "10   4  3.0  22\n",
            "11   7  4.0  24\n",
            "12   3  5.0  26\n",
            "13   4  1.0  28\n",
            "14   2  4.0  30\n",
            "15   4  6.0  32\n",
            "16   4  2.0  34\n",
            "17   9  7.0  36\n",
            "18   1  6.0  38\n",
            "19   5  7.0  40\n",
            "20   3  5.0  42\n",
            "21   5  9.0  44\n",
            "22   2  4.0  46\n",
            "23   5  2.0  48\n",
            "24   1  6.0  50\n",
            "25   4  3.0  52\n",
            "26   6  4.0  54\n",
            "27   8  5.0  56\n",
            "28   4  NaN  58\n",
            "29   6  2.0  60\n",
            "30   9  2.0  62\n",
            "31   5  1.0  64\n",
            "32   9  6.0  66\n",
            "33   1  5.0  68\n",
            "34   2  8.0  70\n",
            "35   4  5.0  72\n",
            "36   2  7.0  74\n",
            "37   5  5.0  76\n",
            "38   2  1.0  78\n",
            "39   3  5.0  80\n"
          ]
        }
      ]
    },
    {
      "cell_type": "code",
      "source": [
        "var_list=list()\n",
        "for i in features:\n",
        "  x=df1[i].tolist()\n",
        "  v1=variance1(x)\n",
        "  print(v1)\n",
        "  var_list.append([v1,i])\n",
        "\n",
        "var_list.sort(reverse=True)\n",
        "print(var_list)\n"
      ],
      "metadata": {
        "id": "JyPPPbAXkew3",
        "colab": {
          "base_uri": "https://localhost:8080/"
        },
        "outputId": "5ae9f790-ab5c-4c67-8fe8-c4adb6533fd4"
      },
      "execution_count": 106,
      "outputs": [
        {
          "output_type": "stream",
          "name": "stdout",
          "text": [
            "6.151282051282052\n",
            "5.20242914979757\n",
            "546.6666666666666\n",
            "[[546.6666666666666, 'f5'], [6.151282051282052, 'f3'], [5.20242914979757, 'f4']]\n"
          ]
        }
      ]
    },
    {
      "cell_type": "code",
      "source": [
        "import pandas as pd\n",
        "import copy as cp\n",
        "\n",
        "f1=pd.read_csv('/content/ML-7.csv')\n",
        "# print(f1)\n",
        "n=len(f1)\n",
        "n_i=cp.deepcopy(n)\n",
        "\n",
        "df1=pd.DataFrame(f1)\n",
        "print(df1)\n",
        "df1_i=cp.deepcopy(df1)\n",
        "\n",
        "def isNaN(x):\n",
        "  return x!=x\n",
        "\n",
        "def missing_values(f1,features):\n",
        "  miss_per=list()\n",
        "  for i in features:\n",
        "    cnt=0\n",
        "    for j in range(len(f1[i])):\n",
        "      if(isNaN(f1[i][j])):\n",
        "        cnt+=1\n",
        "    print(cnt)\n",
        "    miss_per.append((cnt/len(f1))*100)\n",
        "  return miss_per\n",
        "\n",
        "def variance1(col):\n",
        "  return pd.Series(col).var()\n",
        "  \n",
        "features=list()\n",
        "for x in f1:\n",
        "  print(x)\n",
        "  features.append(x)\n",
        "features_i=cp.deepcopy(features)\n",
        "\n",
        "m=len(features)\n",
        "m_i=cp.deepcopy(m)\n",
        "\n",
        "print(n,m)\n",
        "mv=missing_values(f1,features)\n",
        "print(mv)\n",
        "for i in range(m):\n",
        "  if mv[i]>10:\n",
        "    df1.pop(features_i[i])\n",
        "    print(f'Col %d is deleted.'%(i+1))\n",
        "    features.remove(features_i[i])\n",
        "    print(features,features_i)\n",
        "print(df1)\n",
        "\n",
        "var_list=list()\n",
        "for i in features:\n",
        "  x=df1[i].tolist()\n",
        "  v1=variance1(x)\n",
        "  print(v1)\n",
        "  var_list.append([v1,i])\n",
        "\n",
        "var_list.sort(reverse=True)\n",
        "print(var_list)\n",
        "\n"
      ],
      "metadata": {
        "colab": {
          "base_uri": "https://localhost:8080/"
        },
        "id": "VMg-A5JedpMT",
        "outputId": "b3b5dbaf-2593-461c-b07b-aa70592593b2"
      },
      "execution_count": 108,
      "outputs": [
        {
          "output_type": "stream",
          "name": "stdout",
          "text": [
            "     f1   f2  f3   f4  f5  output\n",
            "0   2.0  4.0   9  1.0   2     NaN\n",
            "1   NaN  5.0   3  2.0   4     NaN\n",
            "2   6.0  4.0   6  3.0   6     NaN\n",
            "3   1.0  5.0   2  4.0   8     NaN\n",
            "4   NaN  4.0   1  5.0  10     NaN\n",
            "5   2.0  5.0   6  6.0  12     NaN\n",
            "6   3.0  4.0   4  7.0  14     NaN\n",
            "7   NaN  4.0   7  8.0  16     NaN\n",
            "8   2.0  4.0   2  9.0  18     NaN\n",
            "9   3.0  4.0   9  2.0  20     NaN\n",
            "10  1.0  4.0   4  3.0  22     NaN\n",
            "11  NaN  5.0   7  4.0  24     NaN\n",
            "12  NaN  5.0   3  5.0  26     NaN\n",
            "13  3.0  NaN   4  1.0  28     NaN\n",
            "14  NaN  NaN   2  4.0  30     NaN\n",
            "15  NaN  NaN   4  6.0  32     NaN\n",
            "16  5.0  NaN   4  2.0  34     NaN\n",
            "17  NaN  4.0   9  7.0  36     NaN\n",
            "18  1.0  5.0   1  6.0  38     NaN\n",
            "19  3.0  6.0   5  7.0  40     NaN\n",
            "20  1.0  3.0   3  5.0  42     NaN\n",
            "21  9.0  3.0   5  9.0  44     NaN\n",
            "22  4.0  4.0   2  4.0  46     NaN\n",
            "23  7.0  4.0   5  2.0  48     NaN\n",
            "24  NaN  5.0   1  6.0  50     NaN\n",
            "25  NaN  5.0   4  3.0  52     NaN\n",
            "26  3.0  4.0   6  4.0  54     NaN\n",
            "27  5.0  4.0   8  5.0  56     NaN\n",
            "28  3.0  NaN   4  NaN  58     NaN\n",
            "29  NaN  4.0   6  2.0  60     NaN\n",
            "30  NaN  4.0   9  2.0  62     NaN\n",
            "31  1.0  4.0   5  1.0  64     NaN\n",
            "32  1.0  4.0   9  6.0  66     NaN\n",
            "33  NaN  NaN   1  5.0  68     NaN\n",
            "34  NaN  NaN   2  8.0  70     NaN\n",
            "35  NaN  4.0   4  5.0  72     NaN\n",
            "36  4.0  4.0   2  7.0  74     NaN\n",
            "37  NaN  NaN   5  5.0  76     NaN\n",
            "38  7.0  5.0   2  1.0  78     NaN\n",
            "39  3.0  4.0   3  5.0  80     NaN\n",
            "f1\n",
            "f2\n",
            "f3\n",
            "f4\n",
            "f5\n",
            "output\n",
            "40 6\n",
            "16\n",
            "8\n",
            "0\n",
            "1\n",
            "0\n",
            "40\n",
            "[40.0, 20.0, 0.0, 2.5, 0.0, 100.0]\n",
            "Col 1 is deleted.\n",
            "['f2', 'f3', 'f4', 'f5', 'output'] ['f1', 'f2', 'f3', 'f4', 'f5', 'output']\n",
            "Col 2 is deleted.\n",
            "['f3', 'f4', 'f5', 'output'] ['f1', 'f2', 'f3', 'f4', 'f5', 'output']\n",
            "Col 6 is deleted.\n",
            "['f3', 'f4', 'f5'] ['f1', 'f2', 'f3', 'f4', 'f5', 'output']\n",
            "    f3   f4  f5\n",
            "0    9  1.0   2\n",
            "1    3  2.0   4\n",
            "2    6  3.0   6\n",
            "3    2  4.0   8\n",
            "4    1  5.0  10\n",
            "5    6  6.0  12\n",
            "6    4  7.0  14\n",
            "7    7  8.0  16\n",
            "8    2  9.0  18\n",
            "9    9  2.0  20\n",
            "10   4  3.0  22\n",
            "11   7  4.0  24\n",
            "12   3  5.0  26\n",
            "13   4  1.0  28\n",
            "14   2  4.0  30\n",
            "15   4  6.0  32\n",
            "16   4  2.0  34\n",
            "17   9  7.0  36\n",
            "18   1  6.0  38\n",
            "19   5  7.0  40\n",
            "20   3  5.0  42\n",
            "21   5  9.0  44\n",
            "22   2  4.0  46\n",
            "23   5  2.0  48\n",
            "24   1  6.0  50\n",
            "25   4  3.0  52\n",
            "26   6  4.0  54\n",
            "27   8  5.0  56\n",
            "28   4  NaN  58\n",
            "29   6  2.0  60\n",
            "30   9  2.0  62\n",
            "31   5  1.0  64\n",
            "32   9  6.0  66\n",
            "33   1  5.0  68\n",
            "34   2  8.0  70\n",
            "35   4  5.0  72\n",
            "36   2  7.0  74\n",
            "37   5  5.0  76\n",
            "38   2  1.0  78\n",
            "39   3  5.0  80\n",
            "6.151282051282052\n",
            "5.20242914979757\n",
            "546.6666666666666\n",
            "[[546.6666666666666, 'f5'], [6.151282051282052, 'f3'], [5.20242914979757, 'f4']]\n"
          ]
        }
      ]
    }
  ]
}